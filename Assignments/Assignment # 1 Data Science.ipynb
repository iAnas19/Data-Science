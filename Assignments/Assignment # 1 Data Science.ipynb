{
 "cells": [
  {
   "cell_type": "code",
   "execution_count": 3,
   "id": "098b1a16",
   "metadata": {},
   "outputs": [
    {
     "name": "stdout",
     "output_type": "stream",
     "text": [
      "Twinkle,twinkle,little star, \n",
      "\tHow I wonder What you are !, \n",
      "\t\tUp above the world so high, \n",
      "\t\tLike a diamond in the sky.,\n",
      "Twinkle,little star,\n",
      "\tHow I Wonder what you are\n"
     ]
    }
   ],
   "source": [
    "print(\"Twinkle,twinkle,little star, \\n\\tHow I wonder What you are !, \\n\\t\\tUp above the world so high, \\n\\t\\tLike a diamond in the sky.,\\nTwinkle,little star,\\n\\tHow I Wonder what you are\")"
   ]
  },
  {
   "cell_type": "code",
   "execution_count": 5,
   "id": "fc74a009",
   "metadata": {},
   "outputs": [
    {
     "name": "stdout",
     "output_type": "stream",
     "text": [
      "python version\n",
      "3.9.7 (default, Sep 16 2021, 16:59:28) [MSC v.1916 64 bit (AMD64)]\n"
     ]
    }
   ],
   "source": [
    "import sys\n",
    "print(\"python version\")\n",
    "print(sys.version)"
   ]
  },
  {
   "cell_type": "code",
   "execution_count": 6,
   "id": "9d67abc3",
   "metadata": {},
   "outputs": [
    {
     "name": "stdout",
     "output_type": "stream",
     "text": [
      "The Current Date and Time is  2022-01-01 21:00:38.987218\n"
     ]
    }
   ],
   "source": [
    "import datetime\n",
    "Today = datetime.datetime.now()\n",
    "print(\"The Current Date and Time is \", Today)"
   ]
  },
  {
   "cell_type": "code",
   "execution_count": 1,
   "id": "905cd93d",
   "metadata": {},
   "outputs": [
    {
     "name": "stdout",
     "output_type": "stream",
     "text": [
      "Enter the raduis of the circle : 5\n",
      "The area of the circle with radius: 5.0 is 78.53981633974483\n"
     ]
    }
   ],
   "source": [
    "from math import pi\n",
    "Radius = float(input(\"Enter the raduis of the circle : \"))\n",
    "print(\"The area of the circle with radius: \" +  str(Radius)  +  \" is \"  +  str(pi*Radius**2))"
   ]
  },
  {
   "cell_type": "code",
   "execution_count": 2,
   "id": "71e21197",
   "metadata": {},
   "outputs": [
    {
     "name": "stdout",
     "output_type": "stream",
     "text": [
      "Enter First Name :Muhammad Anas\n",
      "Enter Last Name :Arif\n",
      "Arif Muhammad Anas\n"
     ]
    }
   ],
   "source": [
    "F_name = input(\"Enter First Name :\")\n",
    "L_name = input(\"Enter Last Name :\")\n",
    "print(L_name + \" \" + F_name)"
   ]
  },
  {
   "cell_type": "code",
   "execution_count": 4,
   "id": "c4451d8c",
   "metadata": {},
   "outputs": [
    {
     "name": "stdout",
     "output_type": "stream",
     "text": [
      "Enter first number: 50\n",
      "Enter second number: 32\n",
      "The result of addition of  50 and  32  is:  82\n"
     ]
    }
   ],
   "source": [
    "a = int(input(\"Enter first number: \"))\n",
    "b = int(input(\"Enter second number: \"))\n",
    "c =  a + b\n",
    "print(\"The result of addition of \" ,a, \"and \",b, \" is: \",  c )"
   ]
  },
  {
   "cell_type": "code",
   "execution_count": null,
   "id": "5387a296",
   "metadata": {},
   "outputs": [],
   "source": []
  }
 ],
 "metadata": {
  "kernelspec": {
   "display_name": "Python 3 (ipykernel)",
   "language": "python",
   "name": "python3"
  },
  "language_info": {
   "codemirror_mode": {
    "name": "ipython",
    "version": 3
   },
   "file_extension": ".py",
   "mimetype": "text/x-python",
   "name": "python",
   "nbconvert_exporter": "python",
   "pygments_lexer": "ipython3",
   "version": "3.9.7"
  }
 },
 "nbformat": 4,
 "nbformat_minor": 5
}
